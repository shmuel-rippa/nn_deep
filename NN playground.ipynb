{
 "cells": [
  {
   "cell_type": "markdown",
   "metadata": {},
   "source": [
    "\n",
    "## resources\n",
    "* [I am trask blog](http://iamtrask.github.io/)\n",
    "* [Andrew Ng ML course](https://www.coursera.org/learn/machine-learning/)\n",
    "* [Pedro domingos course](https://www.coursera.org/course/machlearning)"
   ]
  },
  {
   "cell_type": "code",
   "execution_count": 2,
   "metadata": {
    "collapsed": true
   },
   "outputs": [],
   "source": [
    "import numpy as np"
   ]
  },
  {
   "cell_type": "markdown",
   "metadata": {},
   "source": [
    "## Work of a single neuron on a single example"
   ]
  },
  {
   "cell_type": "code",
   "execution_count": 45,
   "metadata": {
    "collapsed": false
   },
   "outputs": [
    {
     "name": "stdout",
     "output_type": "stream",
     "text": [
      "Three features with values    [0 0 1]\n",
      "Target value                  [0]\n",
      "Random weights                [ 0.59958265  0.51063332  0.6051716 ]\n",
      "Value of activation function  0.646838593248\n"
     ]
    }
   ],
   "source": [
    "def sigmoid(x,deriv=False):\n",
    "    if deriv is True:\n",
    "        return x*(1.-x)\n",
    "    return 1./(1.+np.exp(-x))\n",
    "\n",
    "\n",
    "X     = np.array([0,0,1])\n",
    "y     = np.array([0])\n",
    "alpha = 2.*np.random.random(3) - 1.\n",
    "print 'Three features with values   ',X\n",
    "print 'Target value                 ',y\n",
    "print 'Random weights               ',alpha\n",
    "print 'Value of activation function ',sigmoid(np.dot(X,alpha))"
   ]
  },
  {
   "cell_type": "markdown",
   "metadata": {},
   "source": [
    "## Work of a single neuron on 4 examples"
   ]
  },
  {
   "cell_type": "code",
   "execution_count": 57,
   "metadata": {
    "collapsed": false
   },
   "outputs": [
    {
     "name": "stdout",
     "output_type": "stream",
     "text": [
      "The data matrix (4 examples in 3 dimensions)\n",
      "[[0 0 1]\n",
      " [0 1 1]\n",
      " [1 0 1]\n",
      " [1 1 1]]\n",
      "\n",
      " The target vector y\n",
      "[[0]\n",
      " [1]\n",
      " [1]\n",
      " [0]]\n",
      "\n",
      "Random weights \n",
      "[[  4.17022005e-01]\n",
      " [  7.20324493e-01]\n",
      " [  1.14374817e-04]]\n",
      "\n",
      "Values of activation function\n",
      "[[ 0.50002859]\n",
      " [ 0.67270365]\n",
      " [ 0.60279781]\n",
      " [ 0.75721315]]\n"
     ]
    }
   ],
   "source": [
    "X     = np.array([ [0,0,1],[0,1,1],[1,0,1],[1,1,1] ])\n",
    "y     = np.array([[0,1,1,0]]).T\n",
    "\n",
    "np.random.seed(1)\n",
    "w0 = np.random.random((3,1))\n",
    "\n",
    "print 'The data matrix (4 examples in 3 dimensions)\\n',X\n",
    "print '\\n The target vector y\\n',y\n",
    "print '\\nRandom weights \\n',w0\n",
    "print '\\nValues of activation function\\n',sigmoid(np.dot(X,w0))"
   ]
  },
  {
   "cell_type": "code",
   "execution_count": 63,
   "metadata": {
    "collapsed": false
   },
   "outputs": [
    {
     "name": "stdout",
     "output_type": "stream",
     "text": [
      "Output After Training:\n",
      "[[ 0.00966449]\n",
      " [ 0.00786506]\n",
      " [ 0.99358898]\n",
      " [ 0.99211957]]\n"
     ]
    }
   ],
   "source": [
    "X     = np.array([ [0,0,1],[0,1,1],[1,0,1],[1,1,1] ])\n",
    "y     = np.array([[0,0,1,1]]).T\n",
    "\n",
    "np.random.seed(1)\n",
    "w0 = 2.0*np.random.random((3,1))-1.\n",
    "\n",
    "for iter in xrange(10000):\n",
    "\n",
    "    # forward propagation\n",
    "    l0 = X\n",
    "    l1 = sigmoid(np.dot(l0,w0))\n",
    "\n",
    "    # how much did we miss?\n",
    "    l1_error = y - l1\n",
    "\n",
    "    # multiply how much we missed by the \n",
    "    # slope of the sigmoid at the values in l1\n",
    "    l1_delta = l1_error * sigmoid(l1,True)\n",
    "\n",
    "    # update weights\n",
    "    w0 += np.dot(l0.T,l1_delta)\n",
    "\n",
    "print \"Output After Training:\"\n",
    "print l1\n"
   ]
  }
 ],
 "metadata": {
  "kernelspec": {
   "display_name": "Python 2",
   "language": "python",
   "name": "python2"
  },
  "language_info": {
   "codemirror_mode": {
    "name": "ipython",
    "version": 2
   },
   "file_extension": ".py",
   "mimetype": "text/x-python",
   "name": "python",
   "nbconvert_exporter": "python",
   "pygments_lexer": "ipython2",
   "version": "2.7.10"
  }
 },
 "nbformat": 4,
 "nbformat_minor": 0
}
