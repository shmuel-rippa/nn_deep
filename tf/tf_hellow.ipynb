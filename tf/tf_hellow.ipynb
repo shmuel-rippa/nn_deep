{
 "cells": [
  {
   "cell_type": "markdown",
   "metadata": {},
   "source": [
    "# Installation tips\n",
    "\n",
    "* Create Anaconda virtual environment with ipython notebook support\n",
    "  > conda create -n tf ipython-notebook --yes\n",
    "* The set up as explained in the [official site](https://www.tensorflow.org/versions/r0.9/get_started/os_setup.html#anaconda-installation) failed for me. Something to do with failure to update setup tools. The remedy was doing as explained in [here](https://github.com/ContinuumIO/anaconda-issues/issues/542): \n",
    " > pip install --ignore-installed --upgrade pip setuptools"
   ]
  },
  {
   "cell_type": "markdown",
   "metadata": {},
   "source": [
    "# Hellow TensorFlow\n",
    "\n",
    "Basic graph creation and how to inspect the elements of the graph"
   ]
  },
  {
   "cell_type": "code",
   "execution_count": 16,
   "metadata": {
    "collapsed": false
   },
   "outputs": [
    {
     "name": "stdout",
     "output_type": "stream",
     "text": [
      "Tensor(\"Add:0\", shape=(), dtype=int32)\n",
      "Tensor(\"Mul:0\", shape=(), dtype=int32)\n",
      "Add/x\n",
      "Add/y\n",
      "Add\n",
      "Mul/x\n",
      "Mul/y\n",
      "Mul\n",
      "Addition is:    1 + 2 = 3 \n",
      "Multiplication: 7 * 9 = 63\n"
     ]
    }
   ],
   "source": [
    "import tensorflow as tf\n",
    "\n",
    "#----------------------------------------------------------\n",
    "# Basic graph structure and operations\n",
    "#  tf.add , tf.sub, tf.mul , tf.div , tf.mod , tf.poe\n",
    "#  tf.less , tf.greater , tf.less_equal , tf.greater_equal\n",
    "#  tf.logical_and , tf.logical_or , logical.xor\n",
    "#------------------------------------------------------------\n",
    "tf.reset_default_graph()\n",
    "print tf.add(1,2)\n",
    "print tf.mul(7,9)\n",
    "\n",
    "graph = tf.get_default_graph()\n",
    "for op in graph.get_operations():\n",
    "    print op.name\n",
    "\n",
    "sess = tf.Session()                      # For regular python code\n",
    "tf.initialize_all_variables()\n",
    "print 'Addition is:    {} + {} = {} '.format(sess.run('Add/x:0'),sess.run('Add/y:0'),sess.run('Add:0'))\n",
    "print 'Multiplication: {} * {} = {}'.format(sess.run('Mul/x:0'),sess.run('Mul/y:0'),sess.run('Mul:0'))"
   ]
  },
  {
   "cell_type": "markdown",
   "metadata": {},
   "source": [
    "## Constants"
   ]
  },
  {
   "cell_type": "code",
   "execution_count": 20,
   "metadata": {
    "collapsed": false
   },
   "outputs": [
    {
     "name": "stdout",
     "output_type": "stream",
     "text": [
      "m3 =  [[ 19.  22.]\n",
      " [ 43.  50.]]\n"
     ]
    }
   ],
   "source": [
    "tf.reset_default_graph()\n",
    "\n",
    "m1 = tf.constant([[1., 2.], [3.,4]])\n",
    "m2 = tf.constant([[5.,6.],[7.,8.]])\n",
    "\n",
    "m3 = tf.matmul(m1, m2)\n",
    "\n",
    "# have to run the graph using a session\n",
    "sess = tf.Session()\n",
    "sess.run(tf.initialize_all_variables())\n",
    "print 'm3 = ',sess.run(m3)\n",
    "sess.close()"
   ]
  },
  {
   "cell_type": "markdown",
   "metadata": {},
   "source": [
    "## Variables"
   ]
  },
  {
   "cell_type": "code",
   "execution_count": 41,
   "metadata": {
    "collapsed": false
   },
   "outputs": [
    {
     "name": "stdout",
     "output_type": "stream",
     "text": [
      "v1 = 1\n",
      "v2 = [[ 0.  0.  0.  0.  0.]\n",
      " [ 0.  0.  0.  0.  0.]\n",
      " [ 0.  0.  0.  0.  0.]]\n",
      "v3= [[ 0.02285025  0.38858941  0.71063793 -0.41778183]\n",
      " [ 1.75453699 -0.28642228  0.93922818 -0.91024143]\n",
      " [-0.04701722 -1.16829133 -0.72410405  0.837156  ]\n",
      " [ 0.80568159 -0.37985972  2.02597475 -1.09147239]]\n",
      "v4= [ 1.  1.  1.  1.  1.  1.]\n",
      "Changed v1 = 8\n",
      "v1 new val = 8\n",
      "1\n",
      "2\n"
     ]
    }
   ],
   "source": [
    "tf.reset_default_graph()\n",
    "\n",
    "v1 = tf.Variable(1, name=\"my_variable\")\n",
    "v2 = tf.Variable(tf.zeros([3,5]),name='5_zeros')     # Variable with innitializer\n",
    "c1 = tf.random_normal([4, 4], mean=0.0, stddev=1.0)  # 4x4 matrixwith normal random variables\n",
    "v3 = tf.Variable(c1,name='RandomMatrix')\n",
    "v4 = tf.Variable(tf.ones(6))\n",
    "\n",
    "counter = tf.Variable(0)\n",
    "\n",
    "sess = tf.Session()\n",
    "sess.run(tf.initialize_all_variables())\n",
    "print 'v1 =',sess.run(v1)\n",
    "print 'v2 =',sess.run(v2)\n",
    "print 'v3=',sess.run(v3)\n",
    "print 'v4=',sess.run(v4)\n",
    "\n",
    "# Changing the value of a variable\n",
    "print 'Changed v1 =',sess.run(v1.assign(v1 + 7))\n",
    "print 'v1 new val =',sess.run(v1)\n",
    "\n",
    "print sess.run(counter.assign_add(1))\n",
    "print sess.run(counter.assign_add(1))\n",
    "\n",
    "\n",
    "sess.close()\n",
    "\n"
   ]
  },
  {
   "cell_type": "markdown",
   "metadata": {},
   "source": [
    "## Scopes"
   ]
  },
  {
   "cell_type": "code",
   "execution_count": 43,
   "metadata": {
    "collapsed": false
   },
   "outputs": [
    {
     "name": "stdout",
     "output_type": "stream",
     "text": [
      "add:0\n",
      "Scope1/Scope_nested/mul:0\n"
     ]
    }
   ],
   "source": [
    "tf.reset_default_graph()\n",
    "\n",
    "v1 = tf.add(1,2,name='add')\n",
    "with tf.name_scope(\"Scope1\"):\n",
    "    with tf.name_scope(\"Scope_nested\"):\n",
    "        vs = tf.mul(5, 5,name='mul')\n",
    "print v1.name\n",
    "print vs.name"
   ]
  },
  {
   "cell_type": "code",
   "execution_count": 18,
   "metadata": {
    "collapsed": false
   },
   "outputs": [
    {
     "name": "stdout",
     "output_type": "stream",
     "text": [
      "Operations in graph \n",
      "===========================\n",
      "x\n",
      "w/initial_value\n",
      "w\n",
      "w/Assign\n",
      "w/read\n",
      "y\n",
      "y_train\n",
      "sub\n",
      "pow/y\n",
      "pow\n"
     ]
    }
   ],
   "source": [
    "tf.reset_default_graph()\n",
    "\n",
    "graph = tf.get_default_graph()\n",
    "graph.get_operations()\n",
    "\n",
    "# Model of a simple neuron: y <-- x * w\n",
    "x       = tf.constant(1.0,name='x')\n",
    "w       = tf.Variable(0.8,name='w')\n",
    "y       = tf.mul(w , x, name='y')\n",
    "\n",
    "y_     = tf.constant(0.0,name='y_train')\n",
    "loss   = (y-y_)**2\n",
    "\n"
   ]
  },
  {
   "cell_type": "code",
   "execution_count": 17,
   "metadata": {
    "collapsed": false
   },
   "outputs": [
    {
     "name": "stdout",
     "output_type": "stream",
     "text": [
      "Operations in graph \n",
      "===========================\n",
      "x\n",
      "w/initial_value\n",
      "w\n",
      "w/Assign\n",
      "w/read\n",
      "y\n",
      "y_train\n",
      "sub\n",
      "pow/y\n",
      "pow\n",
      "\n",
      "Laste operation in graph is :  pow\n",
      "\n",
      "Inputs:\n",
      "===========  \n",
      "   Tensor(\"sub:0\", shape=(), dtype=float32)\n",
      "   Tensor(\"pow/y:0\", shape=(), dtype=float32)\n",
      "\n",
      "Outputs:\n",
      "===========  \n",
      "   Tensor(\"pow:0\", shape=(), dtype=float32)\n",
      "\n",
      "Operations in graph \n",
      "===========================\n",
      "x\n",
      "w/initial_value\n",
      "w\n",
      "w/Assign\n",
      "w/read\n",
      "y\n",
      "y_train\n",
      "sub\n",
      "pow/y\n",
      "pow\n",
      "gradients/Shape\n",
      "gradients/Const\n",
      "gradients/Fill\n",
      "gradients/pow_grad/Shape\n",
      "gradients/pow_grad/Shape_1\n",
      "gradients/pow_grad/BroadcastGradientArgs\n",
      "gradients/pow_grad/mul\n",
      "gradients/pow_grad/sub/y\n",
      "gradients/pow_grad/sub\n",
      "gradients/pow_grad/Pow\n",
      "gradients/pow_grad/mul_1\n",
      "gradients/pow_grad/Sum\n",
      "gradients/pow_grad/Reshape\n",
      "gradients/pow_grad/mul_2\n",
      "gradients/pow_grad/Log\n",
      "gradients/pow_grad/mul_3\n",
      "gradients/pow_grad/Sum_1\n",
      "gradients/pow_grad/Reshape_1\n",
      "gradients/pow_grad/tuple/group_deps\n",
      "gradients/pow_grad/tuple/control_dependency\n",
      "gradients/pow_grad/tuple/control_dependency_1\n",
      "gradients/sub_grad/Shape\n",
      "gradients/sub_grad/Shape_1\n",
      "gradients/sub_grad/BroadcastGradientArgs\n",
      "gradients/sub_grad/Sum\n",
      "gradients/sub_grad/Reshape\n",
      "gradients/sub_grad/Sum_1\n",
      "gradients/sub_grad/Neg\n",
      "gradients/sub_grad/Reshape_1\n",
      "gradients/sub_grad/tuple/group_deps\n",
      "gradients/sub_grad/tuple/control_dependency\n",
      "gradients/sub_grad/tuple/control_dependency_1\n",
      "gradients/y_grad/Shape\n",
      "gradients/y_grad/Shape_1\n",
      "gradients/y_grad/BroadcastGradientArgs\n",
      "gradients/y_grad/mul\n",
      "gradients/y_grad/Sum\n",
      "gradients/y_grad/Reshape\n",
      "gradients/y_grad/mul_1\n",
      "gradients/y_grad/Sum_1\n",
      "gradients/y_grad/Reshape_1\n",
      "gradients/y_grad/tuple/group_deps\n",
      "gradients/y_grad/tuple/control_dependency\n",
      "gradients/y_grad/tuple/control_dependency_1\n",
      "\n",
      "Laste operation in graph is :  gradients/y_grad/tuple/control_dependency_1\n",
      "\n",
      "Inputs:\n",
      "===========  \n",
      "   Tensor(\"gradients/y_grad/Reshape_1:0\", shape=(), dtype=float32)\n",
      "\n",
      "Outputs:\n",
      "===========  \n",
      "   Tensor(\"gradients/y_grad/tuple/control_dependency_1:0\", shape=(), dtype=float32)\n",
      "\n",
      "Laste operation in graph is now:  init\n",
      "\n",
      "Create a session to evaluate graph operations\n",
      "===============================================\n",
      "Run session to obtaine the value of x:  1.0\n",
      "Run session to obtaine the value of y:  0.8\n",
      "Initial value of loss function       :  0.64\n",
      "\n",
      "Compute gradients:                    1.6\n",
      "\n",
      "Updates weights after one BackProp step: 0.759999990463, loss function=0.577600002289\n",
      "\n",
      "\n",
      "   0 : Weight=0.722, loss=0.5213\n",
      "  10 : Weight=0.432, loss=0.1869\n",
      "  20 : Weight=0.259, loss=0.06699\n",
      "  30 : Weight=0.155, loss=0.02402\n",
      "  40 : Weight=0.0928, loss=0.008609\n",
      "  50 : Weight=0.0556, loss=0.003086\n",
      "  60 : Weight=0.0333, loss=0.001106\n",
      "  70 : Weight=0.0199, loss=0.0003966\n",
      "  80 : Weight=0.0119, loss=0.0001422\n",
      "  90 : Weight=0.00714, loss=5.097e-05\n",
      " 100 : Weight=0.00427, loss=1.827e-05\n",
      " 110 : Weight=0.00256, loss=6.55e-06\n",
      " 120 : Weight=0.00153, loss=2.348e-06\n",
      " 130 : Weight=0.000917, loss=8.418e-07\n",
      " 140 : Weight=0.000549, loss=3.018e-07\n",
      " 150 : Weight=0.000329, loss=1.082e-07\n",
      " 160 : Weight=0.000197, loss=3.878e-08\n",
      " 170 : Weight=0.000118, loss=1.39e-08\n",
      " 180 : Weight=7.06e-05, loss=4.984e-09\n",
      " 190 : Weight=4.23e-05, loss=1.787e-09\n"
     ]
    },
    {
     "ename": "NameError",
     "evalue": "name 'ops' is not defined",
     "output_type": "error",
     "traceback": [
      "\u001b[1;31m---------------------------------------------------------------------------\u001b[0m",
      "\u001b[1;31mNameError\u001b[0m                                 Traceback (most recent call last)",
      "\u001b[1;32m<ipython-input-17-cb60b84268e4>\u001b[0m in \u001b[0;36m<module>\u001b[1;34m()\u001b[0m\n\u001b[0;32m     93\u001b[0m \u001b[1;33m\u001b[0m\u001b[0m\n\u001b[0;32m     94\u001b[0m \u001b[1;33m\u001b[0m\u001b[0m\n\u001b[1;32m---> 95\u001b[1;33m \u001b[0mops\u001b[0m\u001b[1;33m.\u001b[0m\u001b[0mreset_default_graph\u001b[0m\u001b[1;33m(\u001b[0m\u001b[1;33m)\u001b[0m\u001b[1;33m\u001b[0m\u001b[0m\n\u001b[0m",
      "\u001b[1;31mNameError\u001b[0m: name 'ops' is not defined"
     ]
    }
   ],
   "source": [
    "tf.reset_default_graph()\n",
    "graph = tf.get_default_graph()\n",
    "graph.get_operations()\n",
    "\n",
    "# Model of a simple neuron: y <-- x * w\n",
    "x       = tf.constant(1.0,name='x')\n",
    "w       = tf.Variable(0.8,name='w')\n",
    "y       = tf.mul(w , x, name='y')\n",
    "\n",
    "y_     = tf.constant(0.0,name='y_train')\n",
    "loss   = (y-y_)**2\n",
    "\n",
    "#--------------------------------------------------------------\n",
    "# Print the nodes of teh graph, also called 'operations' or 'ops'\n",
    "#--------------------------------------------------------------\n",
    "print 'Operations in graph \\n==========================='\n",
    "for op in graph.get_operations():\n",
    "    print op.name\n",
    "\n"
   ]
  },
  {
   "cell_type": "markdown",
   "metadata": {},
   "source": [
    "# Training and visualization\n",
    "\n",
    "To  see the graphs invoke the command:\n",
    "> tensorboard --logdir=log_simple_stat\n",
    "\n",
    "which can then be viewed in the browser at\n",
    "> localhost:6006/#events\n"
   ]
  },
  {
   "cell_type": "code",
   "execution_count": 62,
   "metadata": {
    "collapsed": true
   },
   "outputs": [],
   "source": [
    "import tensorflow as tf\n",
    "\n",
    "x = tf.constant(1.0, name='input')\n",
    "w = tf.Variable(0.8, name='weight')\n",
    "y = tf.mul(w, x, name='output')\n",
    "y_ = tf.constant(0.0, name='correct_value')\n",
    "loss = tf.pow(y - y_, 2, name='loss')\n",
    "train_step = tf.train.GradientDescentOptimizer(0.025).minimize(loss)\n",
    "\n",
    "for value in [x, w, y, y_, loss]:\n",
    "    tf.scalar_summary(value.op.name, value)\n",
    "\n",
    "summaries = tf.merge_all_summaries()\n",
    "\n",
    "sess = tf.Session()\n",
    "summary_writer = tf.train.SummaryWriter('log_simple_stats', sess.graph)\n",
    "\n",
    "sess.run(tf.initialize_all_variables())\n",
    "for i in range(100):\n",
    "    summary_writer.add_summary(sess.run(summaries), i)\n",
    "    sess.run(train_step)\n"
   ]
  }
 ],
 "metadata": {
  "kernelspec": {
   "display_name": "Python 2",
   "language": "python",
   "name": "python2"
  },
  "language_info": {
   "codemirror_mode": {
    "name": "ipython",
    "version": 2
   },
   "file_extension": ".py",
   "mimetype": "text/x-python",
   "name": "python",
   "nbconvert_exporter": "python",
   "pygments_lexer": "ipython2",
   "version": "2.7.11"
  }
 },
 "nbformat": 4,
 "nbformat_minor": 0
}
