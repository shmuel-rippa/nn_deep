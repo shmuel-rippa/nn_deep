{
 "cells": [
  {
   "cell_type": "markdown",
   "metadata": {},
   "source": [
    "Taken in part from the course [Creative applications of deep learning with tensorflow](https://www.kadenze.com/courses/creative-applications-of-deep-learning-with-tensorflow-i)\n",
    "\n",
    "- [Regression to a noisy sine wave](#regression-1d)\n",
    "    - [L1 minimization with SGD](#L1-SGD)\n",
    "    - [Linear regression iterations](#regression-1d-sine)\n",
    "    - [Regression by a cubic polynomial](#cubic-regression)\n",
    "    - [Non linear activation](#non-linear-activation)\n",
    "    - [Simple network with a non linear activation](#net-with-non-linear-activation)\n",
    "    - [Going deeper](#going-deeper)"
   ]
  },
  {
   "cell_type": "code",
   "execution_count": 6,
   "metadata": {
    "collapsed": false
   },
   "outputs": [],
   "source": [
    "import os\n",
    "import numpy as np\n",
    "from PIL import Image\n",
    "import matplotlib.pyplot as plt\n",
    "from skimage.transform import resize\n",
    "from skimage import data\n",
    "from scipy.misc import imresize\n",
    "import IPython.display as ipyd\n",
    "\n",
    "import tensorflow as tf\n",
    "#from libs_3 import utils, gif, datasets, dataset_utils, vae, dft\n",
    "#fom libs_3 import gif, datasets, dataset_utils, vae, dft\n",
    "\n",
    "%matplotlib inline\n",
    "plt.style.use('ggplot')"
   ]
  },
  {
   "cell_type": "markdown",
   "metadata": {},
   "source": [
    "## Download the dataset"
   ]
  },
  {
   "cell_type": "code",
   "execution_count": 8,
   "metadata": {
    "collapsed": false
   },
   "outputs": [
    {
     "name": "stdout",
     "output_type": "stream",
     "text": [
      "Aggregating all images to batch structure\n",
      "---------------------------------------------\n"
     ]
    },
    {
     "data": {
      "image/png": "[encoded data removed]",
      "text/plain": [
       "<matplotlib.figure.Figure at 0x7f392c0dbf10>"
      ]
     },
     "metadata": {},
     "output_type": "display_data"
    }
   ],
   "source": [
    "image_dir = './celebs'\n",
    "n_images  = 10\n",
    "files = [file_i\n",
    "         for file_i in os.listdir(image_dir)\n",
    "         if file_i.endswith('.jpg') or file_i.endswith('.JPG') ][:n_images]\n",
    "\n",
    "imgs = []\n",
    "size = (64,64)\n",
    "for file_i in files:\n",
    "    f_in = os.path.join(image_dir,file_i)\n",
    "    img  = Image.open(f_in).convert('LA')\n",
    "    img.thumbnail(size, Image.ANTIALIAS)\n",
    "    imgs.append(img)\n",
    "\n",
    "plt.figure()\n",
    "plt.imshow(img)\n",
    "    \n",
    "print 'Aggregating all images to batch structure\\n---------------------------------------------'\n",
    "data = np.array(imgs)"
   ]
  },
  {
   "cell_type": "code",
   "execution_count": 41,
   "metadata": {
    "collapsed": false
   },
   "outputs": [
    {
     "name": "stdout",
     "output_type": "stream",
     "text": [
      "-->  (?, 4096)\n",
      "-->  (?, 512)\n",
      "-->  (?, 256)\n",
      "-->  (?, 128)\n",
      "-->  (?, 64)\n",
      "-->  (?, 128)\n",
      "-->  (?, 256)\n",
      "-->  (?, 512)\n",
      "-->  (?, 4096)\n",
      "Prediction:    (?, 4096)\n",
      "CostPerBatch:  (?,)\n",
      "Cost:          ()\n"
     ]
    }
   ],
   "source": [
    "tf.reset_default_graph()\n",
    "\n",
    "\n",
    "input_size = size[0]*size[1]\n",
    "dims       = [512,256,128,64]\n",
    "\n",
    "X          = tf.placeholder(tf.float32,[None,input_size],name='input')\n",
    "curr_in    = X\n",
    "print '--> ',curr_in.get_shape()\n",
    "\n",
    "\n",
    "# Encoder\n",
    "W_list = []\n",
    "for i_layer, n_neurons in enumerate(dims):\n",
    "    scope_name = 'encoder/layer_{}'.format(i_layer)\n",
    "    with tf.variable_scope(scope_name):\n",
    "        W          = tf.get_variable(name='w',\n",
    "                                 shape = [input_size,n_neurons],\n",
    "                                 initializer=tf.random_normal_initializer(mean=0.0, stddev=0.02))\n",
    "        o          = tf.matmul(curr_in,W)\n",
    "        curr_in    = tf.nn.relu(o)\n",
    "        input_size = n_neurons\n",
    "        print '--> ',curr_in.get_shape()\n",
    "        W_list.append(W)\n",
    " \n",
    "# Decoder\n",
    "W_list.reverse()\n",
    "for i in xrange(len(dims)):\n",
    "    scope_name = 'decoder/layer_{}'.format(i)\n",
    "    o          = tf.matmul(curr_in,tf.transpose(W_list[i]))\n",
    "    curr_in    = tf.nn.relu(o)\n",
    "    print '--> ',curr_in.get_shape()\n",
    "\n",
    "X_pred = curr_in\n",
    "\n",
    "# Cost function\n",
    "cost_per_batch = tf.reduce_mean(tf.squared_difference(X, X_pred), 1)\n",
    "cost           = tf.reduce_mean(cost_per_batch)\n",
    "\n",
    "print 'Prediction:   ',X_pred.get_shape()\n",
    "print 'CostPerBatch: ',cost_per_batch.get_shape()\n",
    "print 'Cost:         ',cost.get_shape()"
   ]
  },
  {
   "cell_type": "code",
   "execution_count": null,
   "metadata": {
    "collapsed": true
   },
   "outputs": [],
   "source": []
  }
 ],
 "metadata": {
  "kernelspec": {
   "display_name": "Python 2",
   "language": "python",
   "name": "python2"
  },
  "language_info": {
   "codemirror_mode": {
    "name": "ipython",
    "version": 2
   },
   "file_extension": ".py",
   "mimetype": "text/x-python",
   "name": "python",
   "nbconvert_exporter": "python",
   "pygments_lexer": "ipython2",
   "version": "2.7.11"
  }
 },
 "nbformat": 4,
 "nbformat_minor": 0
}
