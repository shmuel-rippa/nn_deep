{
 "cells": [
  {
   "cell_type": "code",
   "execution_count": 1,
   "metadata": {
    "collapsed": true
   },
   "outputs": [],
   "source": [
    "from ipywidgets import widgets  "
   ]
  },
  {
   "cell_type": "code",
   "execution_count": 12,
   "metadata": {
    "collapsed": false
   },
   "outputs": [
    {
     "name": "stdout",
     "output_type": "stream",
     "text": [
      "aaa\n",
      "clicked\n",
      "clicked\n",
      "aaa bbb\n"
     ]
    }
   ],
   "source": [
    "from IPython.display import display\n",
    "text = widgets.Text()\n",
    "display(text)\n",
    "\n",
    "button = widgets.Button(description='Click me')\n",
    "display(button)\n",
    "\n",
    "def handle_text(sender):\n",
    "    print(text.value)\n",
    "    \n",
    "def handle_button(b):\n",
    "    print('clicked')\n",
    "\n",
    "text.on_submit(handle_text)\n",
    "button.on_click(handle_button)"
   ]
  },
  {
   "cell_type": "code",
   "execution_count": 14,
   "metadata": {
    "collapsed": true
   },
   "outputs": [],
   "source": [
    "button = widgets.Button(\n",
    "    description='Hello World!',\n",
    "    width=30, # Integers are interpreted as pixel measurements.\n",
    "    height='2em', # em is valid HTML unit of measurement.\n",
    "    color='lime', # Colors can be set by name,\n",
    "    background_color='#0022FF', # and also by color code.\n",
    "    border_color='red')\n",
    "display(button)"
   ]
  },
  {
   "cell_type": "code",
   "execution_count": 15,
   "metadata": {
    "collapsed": true
   },
   "outputs": [],
   "source": [
    "name = widgets.Text(description='Name:')\n",
    "color = widgets.Dropdown(description='Color:', values=['red', 'orange', 'yellow', 'green', 'blue', 'indigo', 'violet'])\n",
    "page1 = widgets.Box(children=[name, color])\n",
    "\n",
    "age = widgets.IntSlider(description='Age:', min=0, max=120, value=50)\n",
    "gender = widgets.RadioButtons(description='Gender:', values=['male', 'female'])\n",
    "page2 = widgets.Box(children=[age, gender])\n",
    "\n",
    "tabs = widgets.Tab(children=[page1, page2])\n",
    "display(tabs)\n",
    "\n",
    "tabs.set_title(0, 'Name')\n",
    "tabs.set_title(1, 'Details')"
   ]
  }
 ],
 "metadata": {
  "kernelspec": {
   "display_name": "Python 2",
   "language": "python",
   "name": "python2"
  },
  "language_info": {
   "codemirror_mode": {
    "name": "ipython",
    "version": 2
   },
   "file_extension": ".py",
   "mimetype": "text/x-python",
   "name": "python",
   "nbconvert_exporter": "python",
   "pygments_lexer": "ipython2",
   "version": "2.7.10"
  }
 },
 "nbformat": 4,
 "nbformat_minor": 0
}
