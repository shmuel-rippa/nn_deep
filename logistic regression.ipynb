{
 "cells": [
  {
   "cell_type": "markdown",
   "metadata": {},
   "source": [
    "# logistic regression in Python\n",
    "\n",
    "Logistic regression is a scheme for binary classification problems involving $d$ variables $x_i , i =1,\\ldots,d$. The output variables $\\mathbf{y}$ can take only the value $0$ or $1$. The classification scheme goes as follows:\n",
    "* Compute $z = \\theta_0 + \\mathbf{x}^T \\mathbf{\\theta}$ where $\\theta_0 ,\\ldots,\\theta_d$ are free parameters.\n",
    "* Use the logistic function $s(z) = \\frac{1}{1+e^{-z}}$ to compute a value between $0$ and $1$.\n",
    "* We interpret this value as probability and predict the output class to be $1$ if $s(z) > \\frac{1}{2}$ and $0$ otherwise.\n",
    "\n",
    "ther references:\n",
    "* [ML with python - logistic regression](http://aimotion.blogspot.co.il/2011/11/machine-learning-with-python-logistic.html). The data set used consists of the file [] from \n",
    "\n",
    "https://github.com/justmarkham/gadsdc1/blob/master/logistic_assignment/kevin_logistic_sklearn.ipynb\n",
    "\n",
    "https://github.com/jcgillespie/Coursera-Machine-Learning\n",
    "\n",
    "http://www.ats.ucla.edu/stat/r/dae/logit.htm\n",
    "\n",
    "http://blog.yhat.com/posts/logistic-regression-and-python.html\n",
    "\n",
    "http://blog.smellthedata.com/2009/06/python-logistic-regression-with-l2.html\n",
    "\n",
    "http://nbviewer.ipython.org/github/tfolkman/learningwithdata/blob/master/Logistic%20Gradient%20Descent.ipynb\n",
    "\n",
    "[Nandos de Feritas Youtube course](https://www.youtube.com/watch?v=w2OtwL5T1ow&list=PLE6Wd9FR--EdyJ5lbFl8UuGjecvVw66F6)- Look at the [logistic regression](https://www.youtube.com/watch?v=mz3j59aJBZQ) video. The basic idea is to look at the likelihood function. Take the minus of the log-likelihood to get the error function which is then minimized by a gradient descent approach."
   ]
  },
  {
   "cell_type": "code",
   "execution_count": 1,
   "metadata": {
    "collapsed": false
   },
   "outputs": [
    {
     "data": {
      "text/plain": [
       "u'd:\\\\GitHub\\\\nn_deep'"
      ]
     },
     "execution_count": 1,
     "metadata": {},
     "output_type": "execute_result"
    }
   ],
   "source": [
    "import numpy as np\n",
    "import pandas as pd\n",
    "\n",
    "%pwd"
   ]
  },
  {
   "cell_type": "markdown",
   "metadata": {},
   "source": [
    "# Logistic regression - single variable"
   ]
  },
  {
   "cell_type": "markdown",
   "metadata": {},
   "source": [
    "The logistic function is $s(z) = \\frac{1}{1+e^{-z}}$ and it's derivative is $s'(z) = s(z) \\cdot (1-s(z))$. "
   ]
  },
  {
   "cell_type": "code",
   "execution_count": 2,
   "metadata": {
    "collapsed": false
   },
   "outputs": [
    {
     "name": "stdout",
     "output_type": "stream",
     "text": [
      "<type 'numpy.ndarray'> (100L, 2L)\n",
      "100\n"
     ]
    }
   ],
   "source": [
    "# data set consists of two variables representingscores on two exams\n",
    "# and decision on admission: 0 or 1\n",
    "data = np.loadtxt(r'data/ex2data1.txt', delimiter=',')\n",
    "\n",
    "X = data[:, 0:2]\n",
    "y = data[:, 2]\n",
    "\n",
    "print type(X),X.shape\n",
    "print len(y)"
   ]
  },
  {
   "cell_type": "code",
   "execution_count": 4,
   "metadata": {
    "collapsed": false
   },
   "outputs": [],
   "source": [
    "def sigmoid(z):\n",
    "    return 1.0/(1.0+np.exp(-z))\n",
    "\n",
    "def der_sigmoid(z):\n",
    "    s = sigmoid(z)\n",
    "    return s*(1.0-s)\n"
   ]
  }
 ],
 "metadata": {
  "kernelspec": {
   "display_name": "Python 2",
   "language": "python",
   "name": "python2"
  },
  "language_info": {
   "codemirror_mode": {
    "name": "ipython",
    "version": 2
   },
   "file_extension": ".py",
   "mimetype": "text/x-python",
   "name": "python",
   "nbconvert_exporter": "python",
   "pygments_lexer": "ipython2",
   "version": "2.7.10"
  }
 },
 "nbformat": 4,
 "nbformat_minor": 0
}
