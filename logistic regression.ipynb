{
 "cells": [
  {
   "cell_type": "markdown",
   "metadata": {},
   "source": [
    "# Softmax function\n",
    "\n",
    "Transform vector of scores to proper probabilities."
   ]
  },
  {
   "cell_type": "code",
   "execution_count": 6,
   "metadata": {
    "collapsed": false
   },
   "outputs": [
    {
     "name": "stdout",
     "output_type": "stream",
     "text": [
      "[ 0.8360188   0.11314284  0.05083836]\n",
      "[  1.00000000e+000   1.38389653e-087   2.49772757e-122]\n",
      "[ 0.33868604  0.3319796   0.32933436]\n"
     ]
    }
   ],
   "source": [
    "import numpy as np\n",
    "\n",
    "def softmax(x):\n",
    "    return np.exp(x)/np.sum(np.exp(x),axis=0)\n",
    "\n",
    "# when scores are mutiplied by large numbers, scores get close to 0 and 1\n",
    "# when scores are mutiplied by small numbers, scores get close uniform distribution\n",
    "scores = [3.0,1.0,0.2]\n",
    "print softmax(scores)\n",
    "print softmax([300.0,100.0,20.0])\n",
    "print softmax([0.03,0.01,0.002]) \n"
   ]
  },
  {
   "cell_type": "markdown",
   "metadata": {},
   "source": [
    "# Cross entropy \n",
    "\n",
    "A measure between two probability distributions $\\mathbf{s}$ and $\\mathbf{l}$ given by $D(\\mathbf{s},\\mathbf{l})= -\\sum(l_i) \\log(s_i)$ where, in our context, $\\mathbf{s}$ is the vector produced by the softmax and $\\mathbf{l}$ is hot-encoding of class labels (one in one class and zero everywhere else). So when the correct class label is $j$ then $D(\\mathbf{s},\\mathbf{l})= - \\log(s_j)$"
   ]
  },
  {
   "cell_type": "code",
   "execution_count": 8,
   "metadata": {
    "collapsed": false
   },
   "outputs": [
    {
     "name": "stdout",
     "output_type": "stream",
     "text": [
      "Estimated class probabilities      [ 0.8360188   0.11314284  0.05083836]\n",
      "Cross entropy for good prediction  0.179104174785\n",
      "Cross entropy for bad  prediction  2.97910417479\n"
     ]
    }
   ],
   "source": [
    "def cross_entropy(S,L):\n",
    "    return -np.sum(L*np.log(S))\n",
    "\n",
    "scores  = [3.0,1.0,0.2]\n",
    "class_1 = [1.0,0.0,0.0]\n",
    "class_3 = [0.0,0.0,1.0]\n",
    "print 'Estimated class probabilities     ',softmax(scores)\n",
    "print 'Cross entropy for good prediction ',cross_entropy(softmax(scores),class_1) \n",
    "print 'Cross entropy for bad  prediction ',cross_entropy(softmax(scores),class_3) "
   ]
  },
  {
   "cell_type": "markdown",
   "metadata": {},
   "source": [
    "# Cross entropy loss minimization\n",
    "Given $N$ training samples,we consider a weight matrix $W$ and a bias vector $b$ we can write down the cross entropy loss as\n",
    "\n",
    "> $\\frac{1}{N} \\sum_{i=1}^{N} D(f(W\\mathbf{x}_i + b),L_i)$\n",
    "\n",
    "where $\\mathbf{x_i}$ is the i'th example, $L_i$ is its class label vector and $f$ is the softmax function.\n",
    "\n",
    "We will minimize this loss by gradient descent procedure."
   ]
  },
  {
   "cell_type": "markdown",
   "metadata": {},
   "source": [
    "# logistic regression in Python\n",
    "\n",
    "Logistic regression is a scheme for binary classification problems involving $d$ variables $x_i , i =1,\\ldots,d$. The output variables $\\mathbf{y}$ can take only the value $0$ or $1$. The classification scheme goes as follows:\n",
    "* Compute $z = \\theta_0 + \\mathbf{x}^T \\mathbf{\\theta}$ where $\\theta_0 ,\\ldots,\\theta_d$ are free parameters.\n",
    "* Use the logistic function $s(z) = \\frac{1}{1+e^{-z}}$ to compute a value between $0$ and $1$.\n",
    "* We interpret this value as probability and predict the output class to be $1$ if $s(z) > \\frac{1}{2}$ and $0$ otherwise.\n",
    "\n",
    "ther references:\n",
    "* [ML with python - logistic regression](http://aimotion.blogspot.co.il/2011/11/machine-learning-with-python-logistic.html). The data set used consists of the file [] from \n",
    "\n",
    "https://github.com/justmarkham/gadsdc1/blob/master/logistic_assignment/kevin_logistic_sklearn.ipynb\n",
    "\n",
    "https://github.com/jcgillespie/Coursera-Machine-Learning\n",
    "\n",
    "http://www.ats.ucla.edu/stat/r/dae/logit.htm\n",
    "\n",
    "http://blog.yhat.com/posts/logistic-regression-and-python.html\n",
    "\n",
    "http://blog.smellthedata.com/2009/06/python-logistic-regression-with-l2.html\n",
    "\n",
    "http://nbviewer.ipython.org/github/tfolkman/learningwithdata/blob/master/Logistic%20Gradient%20Descent.ipynb\n",
    "\n",
    "[Nandos de Feritas Youtube course](https://www.youtube.com/watch?v=w2OtwL5T1ow&list=PLE6Wd9FR--EdyJ5lbFl8UuGjecvVw66F6)- Look at the [logistic regression](https://www.youtube.com/watch?v=mz3j59aJBZQ) video. The basic idea is to look at the likelihood function. Take the minus of the log-likelihood to get the error function which is then minimized by a gradient descent approach."
   ]
  },
  {
   "cell_type": "code",
   "execution_count": 1,
   "metadata": {
    "collapsed": false
   },
   "outputs": [
    {
     "data": {
      "text/plain": [
       "u'd:\\\\GitHub\\\\nn_deep'"
      ]
     },
     "execution_count": 1,
     "metadata": {},
     "output_type": "execute_result"
    }
   ],
   "source": [
    "import numpy as np\n",
    "import pandas as pd\n",
    "\n",
    "%pwd"
   ]
  },
  {
   "cell_type": "markdown",
   "metadata": {},
   "source": [
    "# Logistic regression - single variable"
   ]
  },
  {
   "cell_type": "markdown",
   "metadata": {},
   "source": [
    "The logistic function is $s(z) = \\frac{1}{1+e^{-z}}$ and it's derivative is $s'(z) = s(z) \\cdot (1-s(z))$. "
   ]
  },
  {
   "cell_type": "code",
   "execution_count": 2,
   "metadata": {
    "collapsed": false
   },
   "outputs": [
    {
     "name": "stdout",
     "output_type": "stream",
     "text": [
      "<type 'numpy.ndarray'> (100L, 2L)\n",
      "100\n"
     ]
    }
   ],
   "source": [
    "# data set consists of two variables representingscores on two exams\n",
    "# and decision on admission: 0 or 1\n",
    "data = np.loadtxt(r'data/ex2data1.txt', delimiter=',')\n",
    "\n",
    "X = data[:, 0:2]\n",
    "y = data[:, 2]\n",
    "\n",
    "print type(X),X.shape\n",
    "print len(y)"
   ]
  },
  {
   "cell_type": "code",
   "execution_count": 4,
   "metadata": {
    "collapsed": false
   },
   "outputs": [],
   "source": [
    "def sigmoid(z):\n",
    "    return 1.0/(1.0+np.exp(-z))\n",
    "\n",
    "def der_sigmoid(z):\n",
    "    s = sigmoid(z)\n",
    "    return s*(1.0-s)\n"
   ]
  }
 ],
 "metadata": {
  "kernelspec": {
   "display_name": "Python 2",
   "language": "python",
   "name": "python2"
  },
  "language_info": {
   "codemirror_mode": {
    "name": "ipython",
    "version": 2
   },
   "file_extension": ".py",
   "mimetype": "text/x-python",
   "name": "python",
   "nbconvert_exporter": "python",
   "pygments_lexer": "ipython2",
   "version": "2.7.10"
  }
 },
 "nbformat": 4,
 "nbformat_minor": 0
}
